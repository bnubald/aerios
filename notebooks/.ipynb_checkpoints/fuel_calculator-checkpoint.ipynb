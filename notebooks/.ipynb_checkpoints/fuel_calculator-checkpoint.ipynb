{
 "cells": [
  {
   "cell_type": "code",
   "execution_count": 1,
   "metadata": {},
   "outputs": [],
   "source": [
    "import aerios as ae"
   ]
  },
  {
   "cell_type": "code",
   "execution_count": 2,
   "metadata": {},
   "outputs": [],
   "source": [
    "doha = ae.Airport('DOH')"
   ]
  },
  {
   "cell_type": "code",
   "execution_count": 3,
   "metadata": {},
   "outputs": [
    {
     "name": "stdout",
     "output_type": "stream",
     "text": [
      "25.261 QATAR\n"
     ]
    }
   ],
   "source": [
    "print(doha.lattitude, doha.country)"
   ]
  },
  {
   "cell_type": "code",
   "execution_count": 4,
   "metadata": {},
   "outputs": [],
   "source": [
    "plane = ae.Airplane('boeing 787-8')"
   ]
  },
  {
   "cell_type": "code",
   "execution_count": 5,
   "metadata": {},
   "outputs": [
    {
     "name": "stdout",
     "output_type": "stream",
     "text": [
      "A7-BCD qatar-airways\n"
     ]
    }
   ],
   "source": [
    "print(plane.registration, plane.airline)"
   ]
  },
  {
   "cell_type": "code",
   "execution_count": 6,
   "metadata": {},
   "outputs": [],
   "source": [
    "myflight = ae.Flight(['DOH', 'CDG'], 'boeing 787-8')"
   ]
  },
  {
   "cell_type": "code",
   "execution_count": 7,
   "metadata": {},
   "outputs": [
    {
     "name": "stdout",
     "output_type": "stream",
     "text": [
      "<bound method Flight.get_fuel_estimate of <aerios.flight.Flight object at 0x11bc44748>>\n"
     ]
    }
   ],
   "source": [
    "print(myflight.get_fuel_estimate())"
   ]
  },
  {
   "cell_type": "code",
   "execution_count": null,
   "metadata": {},
   "outputs": [],
   "source": [
    "NM1, FC1 = get_consumption('airbus a380')\n",
    "NM2, FC2 = get_consumption('boeing 787-8')\n",
    "NM3, FC3 = get_consumption('boeing 747-400')\n",
    "\n",
    "fig = plt.figure(figsize=(9,6))\n",
    "ax = fig.gca()\n",
    "ax.set_facecolor(\"floralwhite\")\n",
    "plt.semilogy(NM1, FC1, 'bo', ms=12, alpha=0.5)\n",
    "plt.semilogy(NM2, FC2, 'rs', ms=12, alpha=0.5)\n",
    "plt.semilogy(NM3, FC3, 'g<', ms=12, alpha=0.5)\n",
    "plt.xlabel('Nautical miles', fontsize=18)\n",
    "plt.ylabel('Fuel consumption', fontsize=18)\n",
    "plt.show()"
   ]
  },
  {
   "cell_type": "code",
   "execution_count": null,
   "metadata": {},
   "outputs": [],
   "source": []
  }
 ],
 "metadata": {
  "kernelspec": {
   "display_name": "Python 3",
   "language": "python",
   "name": "python3"
  },
  "language_info": {
   "codemirror_mode": {
    "name": "ipython",
    "version": 3
   },
   "file_extension": ".py",
   "mimetype": "text/x-python",
   "name": "python",
   "nbconvert_exporter": "python",
   "pygments_lexer": "ipython3",
   "version": "3.7.1"
  }
 },
 "nbformat": 4,
 "nbformat_minor": 2
}
