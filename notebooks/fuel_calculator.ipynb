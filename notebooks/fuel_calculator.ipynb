{
 "cells": [
  {
   "cell_type": "code",
   "execution_count": 8,
   "metadata": {},
   "outputs": [],
   "source": [
    "import numpy as np\n",
    "from mpl_toolkits.basemap import Basemap\n",
    "import matplotlib.pyplot as plt\n",
    "import pandas as pd\n",
    "import xml.etree.ElementTree as ET\n",
    "import matplotlib.pyplot as plt\n",
    "import matplotlib\n",
    "from matplotlib import rc\n",
    "\n",
    "params = {'legend.fontsize': 16,\n",
    "          'font.size' : 16.0,\n",
    "          'font.family': 'sans-serif',\n",
    "          'axes.labelsize': 16,\n",
    "          'axes.titlesize': 16,\n",
    "          'axes.axisbelow': True,\n",
    "          'xtick.labelsize' :16,\n",
    "          'ytick.labelsize': 16,\n",
    "          'mathtext.fontset': 'cm',\n",
    "          'mathtext.rm': 'sans',\n",
    "          'font.variant':'small-caps',\n",
    "          'image.cmap' : 'jet',\n",
    "          'font.serif': 'Computer Modern Roman',\n",
    "          'font.family': 'serif'\n",
    "         }\n",
    "rc('text', usetex=True)\n",
    "matplotlib.rcParams.update(params)"
   ]
  },
  {
   "cell_type": "code",
   "execution_count": 9,
   "metadata": {},
   "outputs": [],
   "source": [
    "NAUTICAL_MILES_INTERVALS = [125, 250, 500, 750, 1000, 1500, 2000, 2500, 3000, 3500, 4000, 4500,\\\n",
    "            5000, 5500, 6000, 7000, 8000, 8500]"
   ]
  },
  {
   "cell_type": "code",
   "execution_count": 10,
   "metadata": {},
   "outputs": [],
   "source": [
    "def get_consumption(asset_id):\n",
    "    tree = ET.parse('../aerios/data/fuels.xml')\n",
    "    root = tree.getroot()\n",
    "    data = ET.Element('data')\n",
    "    port = root.findall(\".//aircraft[@aircraft_id='\"+str(asset_id)+\"']\")\n",
    "    nautical_miles = []\n",
    "    fuel_consumption = []\n",
    "    for miles in NAUTICAL_MILES_INTERVALS:\n",
    "        fuel_consumption.append(float( port[0].get('miles_'+str(miles))) )\n",
    "        nautical_miles.append(miles)\n",
    "    return nautical_miles, fuel_consumption"
   ]
  },
  {
   "cell_type": "code",
   "execution_count": 17,
   "metadata": {},
   "outputs": [
    {
     "data": {
      "image/png": "[encoded data removed]",
      "text/plain": [
       "<Figure size 648x432 with 1 Axes>"
      ]
     },
     "metadata": {
      "needs_background": "light"
     },
     "output_type": "display_data"
    }
   ],
   "source": [
    "NM1, FC1 = get_consumption('airbus a380')\n",
    "NM2, FC2 = get_consumption('boeing 787-8')\n",
    "NM3, FC3 = get_consumption('boeing 747-400')\n",
    "\n",
    "fig = plt.figure(figsize=(9,6))\n",
    "ax = fig.gca()\n",
    "ax.set_facecolor(\"floralwhite\")\n",
    "plt.semilogy(NM1, FC1, 'bo', ms=12, alpha=0.5)\n",
    "plt.semilogy(NM2, FC2, 'rs', ms=12, alpha=0.5)\n",
    "plt.semilogy(NM3, FC3, 'g<', ms=12, alpha=0.5)\n",
    "plt.xlabel('Nautical miles', fontsize=18)\n",
    "plt.ylabel('Fuel consumption', fontsize=18)\n",
    "plt.show()"
   ]
  },
  {
   "cell_type": "code",
   "execution_count": null,
   "metadata": {},
   "outputs": [],
   "source": []
  }
 ],
 "metadata": {
  "kernelspec": {
   "display_name": "Python 3",
   "language": "python",
   "name": "python3"
  },
  "language_info": {
   "codemirror_mode": {
    "name": "ipython",
    "version": 3
   },
   "file_extension": ".py",
   "mimetype": "text/x-python",
   "name": "python",
   "nbconvert_exporter": "python",
   "pygments_lexer": "ipython3",
   "version": "3.7.1"
  }
 },
 "nbformat": 4,
 "nbformat_minor": 2
}
