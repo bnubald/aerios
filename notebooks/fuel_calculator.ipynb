{
 "cells": [
  {
   "cell_type": "code",
   "execution_count": 1,
   "metadata": {},
   "outputs": [],
   "source": [
    "import aerios as ae"
   ]
  },
  {
   "cell_type": "code",
   "execution_count": 2,
   "metadata": {},
   "outputs": [],
   "source": [
    "doha = ae.Airport('DOH')"
   ]
  },
  {
   "cell_type": "code",
   "execution_count": 3,
   "metadata": {},
   "outputs": [
    {
     "name": "stdout",
     "output_type": "stream",
     "text": [
      "25.261 QATAR\n"
     ]
    }
   ],
   "source": [
    "print(doha.lattitude, doha.country)"
   ]
  },
  {
   "cell_type": "code",
   "execution_count": 4,
   "metadata": {},
   "outputs": [],
   "source": [
    "plane = ae.Airplane('boeing 787-8')"
   ]
  },
  {
   "cell_type": "code",
   "execution_count": 5,
   "metadata": {},
   "outputs": [
    {
     "name": "stdout",
     "output_type": "stream",
     "text": [
      "A7-BCD qatar-airways\n"
     ]
    }
   ],
   "source": [
    "print(plane.registration, plane.airline)"
   ]
  },
  {
   "cell_type": "code",
   "execution_count": 6,
   "metadata": {},
   "outputs": [],
   "source": [
    "myflight = ae.Flight(['DOH', 'CDG'], 'boeing 787-8')"
   ]
  },
  {
   "cell_type": "code",
   "execution_count": 7,
   "metadata": {},
   "outputs": [
    {
     "name": "stdout",
     "output_type": "stream",
     "text": [
      "boeing 787-8\n"
     ]
    },
    {
     "ename": "SyntaxError",
     "evalue": "invalid predicate (<string>)",
     "output_type": "error",
     "traceback": [
      "Traceback \u001b[0;36m(most recent call last)\u001b[0m:\n",
      "  File \u001b[1;32m\"/Library/Frameworks/Python.framework/Versions/3.7/lib/python3.7/site-packages/IPython/core/interactiveshell.py\"\u001b[0m, line \u001b[1;32m3267\u001b[0m, in \u001b[1;35mrun_code\u001b[0m\n    exec(code_obj, self.user_global_ns, self.user_ns)\n",
      "  File \u001b[1;32m\"<ipython-input-7-b4a6acde2e6c>\"\u001b[0m, line \u001b[1;32m1\u001b[0m, in \u001b[1;35m<module>\u001b[0m\n    print(myflight.get_fuel_estimate())\n",
      "  File \u001b[1;32m\"/Library/Frameworks/Python.framework/Versions/3.7/lib/python3.7/site-packages/aerios-0.0.1-py3.7.egg/aerios/flight.py\"\u001b[0m, line \u001b[1;32m44\u001b[0m, in \u001b[1;35mget_fuel_estimate\u001b[0m\n    [miles, fuel] = self.get_fuel_data()\n",
      "  File \u001b[1;32m\"/Library/Frameworks/Python.framework/Versions/3.7/lib/python3.7/site-packages/aerios-0.0.1-py3.7.egg/aerios/flight.py\"\u001b[0m, line \u001b[1;32m56\u001b[0m, in \u001b[1;35mget_fuel_data\u001b[0m\n    port = root.findall(\".//aircraft[@aircraft_type'\"+self.myplane.type+\"']\")\n",
      "  File \u001b[1;32m\"/Library/Frameworks/Python.framework/Versions/3.7/lib/python3.7/xml/etree/ElementPath.py\"\u001b[0m, line \u001b[1;32m313\u001b[0m, in \u001b[1;35mfindall\u001b[0m\n    return list(iterfind(elem, path, namespaces))\n",
      "  File \u001b[1;32m\"/Library/Frameworks/Python.framework/Versions/3.7/lib/python3.7/xml/etree/ElementPath.py\"\u001b[0m, line \u001b[1;32m286\u001b[0m, in \u001b[1;35miterfind\u001b[0m\n    selector.append(ops[token[0]](next, token))\n",
      "\u001b[0;36m  File \u001b[0;32m\"/Library/Frameworks/Python.framework/Versions/3.7/lib/python3.7/xml/etree/ElementPath.py\"\u001b[0;36m, line \u001b[0;32m242\u001b[0;36m, in \u001b[0;35mprepare_predicate\u001b[0;36m\u001b[0m\n\u001b[0;31m    raise SyntaxError(\"invalid predicate\")\u001b[0m\n",
      "\u001b[0;36m  File \u001b[0;32m\"<string>\"\u001b[0;36m, line \u001b[0;32munknown\u001b[0m\n\u001b[0;31mSyntaxError\u001b[0m\u001b[0;31m:\u001b[0m invalid predicate\n"
     ]
    }
   ],
   "source": [
    "print(myflight.get_fuel_estimate())"
   ]
  },
  {
   "cell_type": "code",
   "execution_count": null,
   "metadata": {},
   "outputs": [],
   "source": [
    "NM1, FC1 = get_consumption('airbus a380')\n",
    "NM2, FC2 = get_consumption('boeing 787-8')\n",
    "NM3, FC3 = get_consumption('boeing 747-400')\n",
    "\n",
    "fig = plt.figure(figsize=(9,6))\n",
    "ax = fig.gca()\n",
    "ax.set_facecolor(\"floralwhite\")\n",
    "plt.semilogy(NM1, FC1, 'bo', ms=12, alpha=0.5)\n",
    "plt.semilogy(NM2, FC2, 'rs', ms=12, alpha=0.5)\n",
    "plt.semilogy(NM3, FC3, 'g<', ms=12, alpha=0.5)\n",
    "plt.xlabel('Nautical miles', fontsize=18)\n",
    "plt.ylabel('Fuel consumption', fontsize=18)\n",
    "plt.show()"
   ]
  },
  {
   "cell_type": "code",
   "execution_count": null,
   "metadata": {},
   "outputs": [],
   "source": []
  }
 ],
 "metadata": {
  "kernelspec": {
   "display_name": "Python 3",
   "language": "python",
   "name": "python3"
  },
  "language_info": {
   "codemirror_mode": {
    "name": "ipython",
    "version": 3
   },
   "file_extension": ".py",
   "mimetype": "text/x-python",
   "name": "python",
   "nbconvert_exporter": "python",
   "pygments_lexer": "ipython3",
   "version": "3.7.1"
  }
 },
 "nbformat": 4,
 "nbformat_minor": 2
}
